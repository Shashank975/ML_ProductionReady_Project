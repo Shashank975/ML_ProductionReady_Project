{
  "cells": [
    {
      "cell_type": "markdown",
      "id": "d58eab01",
      "metadata": {
        "id": "d58eab01"
      },
      "source": [
        "# US Visa Prediction Project\n",
        "**Life cycle of Machine learning Project**\n",
        "\n",
        "* Understanding the Problem Statement\n",
        "* Data Collection\n",
        "* Exploratory data analysis\n",
        "* Data Cleaning\n",
        "* Data Pre-Processing\n",
        "* Model Training \n",
        "* Choose best model"
      ]
    },
    {
      "cell_type": "markdown",
      "id": "232c806f",
      "metadata": {
        "id": "232c806f"
      },
      "source": [
        "### About\n",
        "The Immigration and Nationality Act (INA) of the US permits foreign workers to come to the United States to work on either a temporary or permanent basis. \n",
        "The act also protects US workers against adverse impacts on working place and maintain requirements when they hire foreign workers to fill workforce shortages. The immigration programs are administered by the Office of Foreign Labor Certification (OFLC)."
      ]
    },
    {
      "cell_type": "markdown",
      "id": "1036af93",
      "metadata": {
        "id": "1036af93"
      },
      "source": [
        "## 1) Problem statement.\n",
        "\n",
        "* OFLC gives job certification applications for employers seeking to bring foreign workers into the United States and grants certifications. \n",
        "* As In last year the count of employees were huge so OFLC needs Machine learning models to shortlist visa applicants based on their previous data.\n",
        "\n",
        "**In this project we are going to use the data given to build a Classification model:**\n",
        "\n",
        "* This model is to check if Visa get approved or not based on the given dataset.\n",
        "* This can be used to Recommend a suitable profile for the applicants for whom the visa should be certified or denied based on the certain criteria which influences the decision."
      ]
    },
    {
      "cell_type": "markdown",
      "id": "b229fd41",
      "metadata": {
        "id": "b229fd41"
      },
      "source": [
        "## 2) Data Collection.\n",
        "* The Dataset is part of Office of Foreign Labor Certification (OFLC)\n",
        "* The data consists of 25480 Rows and 12 Columns\n",
        "\n",
        "https://www.kaggle.com/datasets/moro23/easyvisa-dataset"
      ]
    },
    {
      "cell_type": "markdown",
      "id": "51d88943",
      "metadata": {
        "id": "51d88943"
      },
      "source": [
        "### 2.1 Import Data and Required Packages"
      ]
    },
    {
      "cell_type": "markdown",
      "id": "ebc24403",
      "metadata": {
        "id": "ebc24403"
      },
      "source": [
        "**Importing Pandas, Numpy, Matplotlib, Seaborn and Warings Library.**"
      ]
    },
    {
      "cell_type": "code",
      "execution_count": null,
      "id": "497ada02",
      "metadata": {
        "id": "497ada02"
      },
      "outputs": [],
      "source": [
        "import pandas as pd\n",
        "import numpy as np\n",
        "import matplotlib.pyplot as plt\n",
        "import seaborn as sns\n",
        "import plotly.express as px\n",
        "import warnings\n",
        "\n",
        "warnings.filterwarnings(\"ignore\")\n",
        "\n",
        "%matplotlib inline"
      ]
    },
    {
      "cell_type": "markdown",
      "id": "7fb6e8ec",
      "metadata": {
        "id": "7fb6e8ec"
      },
      "source": [
        "**Import the CSV Data as Pandas DataFrame**"
      ]
    },
    {
      "cell_type": "code",
      "execution_count": null,
      "id": "53138f10",
      "metadata": {
        "id": "53138f10"
      },
      "outputs": [],
      "source": [
        "df = pd.read_csv(r\"EasyVisa.csv\")"
      ]
    },
    {
      "cell_type": "markdown",
      "id": "4bca2f5a",
      "metadata": {
        "id": "4bca2f5a"
      },
      "source": [
        "**Show Top 5 Records**"
      ]
    },
    {
      "cell_type": "code",
      "execution_count": null,
      "id": "3f393178",
      "metadata": {
        "id": "3f393178",
        "outputId": "bef07e4b-4cf6-48f4-ed48-b96a8b4de66d"
      },
      "outputs": [],
      "source": [
        "df.head()"
      ]
    },
    {
      "cell_type": "markdown",
      "id": "366a9a27",
      "metadata": {
        "id": "366a9a27"
      },
      "source": [
        "**Shape of the dataset**"
      ]
    },
    {
      "cell_type": "code",
      "execution_count": null,
      "id": "cf3c1e60",
      "metadata": {
        "id": "cf3c1e60",
        "outputId": "f5fe6bd6-30db-4f21-98ab-b2e99c83ef0a"
      },
      "outputs": [],
      "source": [
        "df.shape"
      ]
    },
    {
      "cell_type": "markdown",
      "id": "de179a2c",
      "metadata": {
        "id": "de179a2c"
      },
      "source": [
        "**Summary of the dataset**"
      ]
    },
    {
      "cell_type": "code",
      "execution_count": null,
      "id": "d1b3985f",
      "metadata": {
        "id": "d1b3985f",
        "outputId": "850e7d76-1412-4189-fd10-9581f7c4add8"
      },
      "outputs": [],
      "source": [
        "# Display summary statistics for a dataframe\n",
        "df.describe()"
      ]
    },
    {
      "cell_type": "markdown",
      "id": "ebd33cec",
      "metadata": {
        "id": "ebd33cec"
      },
      "source": [
        "**Check Datatypes in the dataset**"
      ]
    },
    {
      "cell_type": "code",
      "execution_count": null,
      "id": "e0c346e6",
      "metadata": {
        "id": "e0c346e6",
        "outputId": "a8a38e5b-9c5c-4872-b4e2-d53cc2af8ec8"
      },
      "outputs": [],
      "source": [
        "# Check Null and Dtypes\n",
        "df.info()"
      ]
    },
    {
      "cell_type": "markdown",
      "id": "a5ee9991",
      "metadata": {
        "id": "a5ee9991"
      },
      "source": [
        "## 3. EXPLORING DATA"
      ]
    },
    {
      "cell_type": "code",
      "execution_count": null,
      "id": "69f4ca25",
      "metadata": {
        "id": "69f4ca25",
        "outputId": "5e8ee88a-9685-4d6c-d412-01a340e46c53"
      },
      "outputs": [],
      "source": [
        "# define numerical & categorical columns\n",
        "numeric_features = [feature for feature in df.columns if df[feature].dtype != 'O']\n",
        "categorical_features = [feature for feature in df.columns if df[feature].dtype == 'O']\n",
        "\n",
        "# print columns\n",
        "print('We have {} numerical features : {}'.format(len(numeric_features), numeric_features))\n",
        "print('\\nWe have {} categorical features : {}'.format(len(categorical_features), categorical_features))"
      ]
    },
    {
      "cell_type": "code",
      "execution_count": null,
      "id": "6bf5721e",
      "metadata": {
        "id": "6bf5721e",
        "outputId": "390b79b7-409b-45b8-d66c-6f3ee6813a54"
      },
      "outputs": [],
      "source": [
        "# proportion of count data on categorical columns\n",
        "for col in categorical_features:\n",
        "    print(df[col].value_counts(normalize=True) * 100)\n",
        "    print('---------------------------')"
      ]
    },
    {
      "cell_type": "markdown",
      "id": "5506aaef",
      "metadata": {
        "id": "5506aaef"
      },
      "source": [
        "**Insights**\n",
        " - `case_id` have unique vlaues for each column which can be dropped as it it of no importance\n",
        " - `continent` column is highly biased towards asia. hence we can combine other categories to form a single category.\n",
        " - `unit_of_wage` seems to be an important column as most of them are yearly contracts."
      ]
    },
    {
      "cell_type": "markdown",
      "id": "aafcd724",
      "metadata": {
        "id": "aafcd724"
      },
      "source": [
        "## Univariate Analysis"
      ]
    },
    {
      "cell_type": "markdown",
      "id": "6840a61e",
      "metadata": {
        "id": "6840a61e"
      },
      "source": [
        "* The term univariate analysis refers to the analysis of one variable prefix “uni” means “one.” The purpose of univariate analysis is to understand the distribution of values for a single variable.\n",
        "\n",
        "Other Type of Analysis are\n",
        "* **Bivariate Analysis:** The analysis of two variables.\n",
        "* **Multivariate Analysis:** The analysis of two or more variables."
      ]
    },
    {
      "cell_type": "markdown",
      "id": "c2c790ef",
      "metadata": {
        "id": "c2c790ef"
      },
      "source": [
        "### Numerical Features"
      ]
    },
    {
      "cell_type": "code",
      "execution_count": null,
      "id": "0f742ba6",
      "metadata": {
        "id": "0f742ba6",
        "outputId": "ca303448-e13e-4572-ab0c-9abd8a030702"
      },
      "outputs": [],
      "source": [
        "plt.figure(figsize=(15, 10))\n",
        "plt.suptitle('Univariate Analysis of Numerical Features', fontsize=20, fontweight='bold', alpha=0.8, y=1.)\n",
        "\n",
        "for i in range(0, len(numeric_features)):\n",
        "    plt.subplot(2, 2, i+1)\n",
        "    sns.kdeplot(x=df[numeric_features[i]], color='blue')\n",
        "    plt.xlabel(numeric_features[i])\n",
        "    plt.tight_layout()\n",
        "    \n",
        "# save plot\n",
        "# plt.savefig('./images/Univariate_Num.png')"
      ]
    },
    {
      "cell_type": "markdown",
      "id": "625310ef",
      "metadata": {
        "id": "625310ef"
      },
      "source": [
        "**Insights**\n",
        " - `no_of_employees` column looks more skewed but it may be because of outlies.\n",
        " - `yr_of_estab` is a discrete feature.\n",
        " - `privailing-wage` is a right-skewed distribution."
      ]
    },
    {
      "cell_type": "markdown",
      "id": "d6c6262f",
      "metadata": {
        "id": "d6c6262f"
      },
      "source": [
        "### Categorical Features"
      ]
    },
    {
      "cell_type": "code",
      "execution_count": null,
      "id": "612f41b3",
      "metadata": {
        "id": "612f41b3",
        "outputId": "46a91fe6-4f32-49a9-c256-3a2f8fb52694"
      },
      "outputs": [],
      "source": [
        "# categorical columns\n",
        "categorical_features.remove('case_id')\n",
        "plt.figure(figsize=(15, 8))\n",
        "plt.suptitle('Univariate Analysis of Categorical Features', fontsize=20, fontweight='bold', alpha=0.8, y=1.)\n",
        "\n",
        "for i in range(0, len(categorical_features)):\n",
        "    plt.subplot(3, 3, i+1)\n",
        "    sns.countplot(x=df[categorical_features[i]])\n",
        "    plt.xlabel(categorical_features[i])\n",
        "    plt.tight_layout()\n",
        "    \n",
        "# save plot\n",
        "# plt.savefig('./images/Univariate_Cat.png')"
      ]
    },
    {
      "cell_type": "markdown",
      "id": "70811882",
      "metadata": {
        "id": "70811882"
      },
      "source": [
        "**Insights**\n",
        " - `requires_job_training`, `unit_of_wage`, `full_time_position` and `continents` coulmns have signle category dominating.\n",
        " - In rest of the columns are balanced."
      ]
    },
    {
      "cell_type": "markdown",
      "id": "d404f6d8",
      "metadata": {
        "id": "d404f6d8"
      },
      "source": [
        "### Multivariate Analysis"
      ]
    },
    {
      "cell_type": "markdown",
      "id": "f6b8a51e",
      "metadata": {
        "id": "f6b8a51e"
      },
      "source": [
        "* Multivariate analysis is the analysis of more than one variable."
      ]
    },
    {
      "cell_type": "code",
      "execution_count": null,
      "id": "11a3994e",
      "metadata": {
        "id": "11a3994e",
        "outputId": "e3570998-cb22-418e-e439-9985dcc6928b"
      },
      "outputs": [],
      "source": [
        "discrete_features=[feature for feature in numeric_features if len(df[feature].unique())<=25]\n",
        "\n",
        "continuous_features=[feature for feature in numeric_features if len(df[feature].unique()) > 25]\n",
        "\n",
        "print('We have {} discrete features : {}'.format(len(discrete_features), discrete_features))\n",
        "print('\\nWe have {} continuous_features : {}'.format(len(continuous_features), continuous_features))"
      ]
    },
    {
      "cell_type": "markdown",
      "id": "02c8e487",
      "metadata": {
        "id": "02c8e487"
      },
      "source": [
        "### Check Multicollinearity in Numerical features"
      ]
    },
    {
      "cell_type": "code",
      "execution_count": null,
      "id": "8f49779d",
      "metadata": {},
      "outputs": [],
      "source": [
        "df.head()"
      ]
    },
    {
      "cell_type": "markdown",
      "id": "72ded908",
      "metadata": {
        "id": "72ded908"
      },
      "source": [
        "**Insights**\n",
        " - There is no multicollinearity between any variables"
      ]
    },
    {
      "cell_type": "markdown",
      "id": "9138ebb9",
      "metadata": {
        "id": "9138ebb9"
      },
      "source": [
        "### Check Multicollinearity for Categorical features"
      ]
    },
    {
      "cell_type": "markdown",
      "id": "993aadd5",
      "metadata": {
        "id": "993aadd5"
      },
      "source": [
        "* **A chi-squared test (also chi-square or χ2 test) is a statistical hypothesis test that is valid to perform when the test statistic is chi-squared distributed under the null hypothesis, specifically Pearson's chi-squared test**\n",
        "\n",
        "* **A chi-square statistic is one way to show a relationship between two categorical variables.**\n",
        "\n",
        "* **Here we test correlation of Categorical columns with Target column i.e case_status**"
      ]
    },
    {
      "cell_type": "markdown",
      "id": "63ec8a89",
      "metadata": {
        "id": "63ec8a89"
      },
      "source": [
        "Null Hypothesis ($ H_0 $): The Feature is independent of target column (No-Correlation)\n",
        "\n",
        "Alternative Hypothesis ($ H_1 $): The Feature and Target column are not independent (Correalted)"
      ]
    },
    {
      "cell_type": "code",
      "execution_count": null,
      "id": "effa19f6",
      "metadata": {
        "id": "effa19f6",
        "outputId": "95ead51d-d774-494c-ce21-4e3ad68da55b"
      },
      "outputs": [],
      "source": [
        "from scipy.stats import chi2_contingency\n",
        "chi2_test = []\n",
        "for feature in categorical_features:\n",
        "    if chi2_contingency(pd.crosstab(df['case_status'], df[feature]))[1] < 0.05:\n",
        "        chi2_test.append('Reject Null Hypothesis')\n",
        "    else:\n",
        "        chi2_test.append('Fail to Reject Null Hypothesis')\n",
        "result = pd.DataFrame(data=[categorical_features, chi2_test]).T\n",
        "result.columns = ['Column', 'Hypothesis Result']\n",
        "result"
      ]
    },
    {
      "cell_type": "markdown",
      "id": "4274dfce",
      "metadata": {
        "id": "4274dfce"
      },
      "source": [
        "**Report** \n",
        "* Here `requires_job_training` fails to Rejects Null Hypothesis which means it doesn't correlate with target column."
      ]
    },
    {
      "cell_type": "markdown",
      "id": "5950201d",
      "metadata": {
        "id": "5950201d"
      },
      "source": [
        "### Checking Null Values"
      ]
    },
    {
      "cell_type": "code",
      "execution_count": null,
      "id": "e3a9191f",
      "metadata": {
        "id": "e3a9191f",
        "outputId": "8e002ee5-6b48-473f-ae5d-ab6344b5b907"
      },
      "outputs": [],
      "source": [
        "df.isnull().sum()"
      ]
    },
    {
      "cell_type": "code",
      "execution_count": null,
      "id": "5fdf97e4",
      "metadata": {
        "id": "5fdf97e4",
        "outputId": "d60bb58d-177e-4908-881c-189da75e9852",
        "scrolled": true
      },
      "outputs": [],
      "source": [
        "continues_features=[feature for feature in numeric_features if len(df[feature].unique())>=10]\n",
        "print('Num of continues features :',continues_features)"
      ]
    },
    {
      "cell_type": "code",
      "execution_count": null,
      "id": "6609576f",
      "metadata": {
        "id": "6609576f",
        "outputId": "4fcac24e-7de2-4da1-8a26-4b30375706e2"
      },
      "outputs": [],
      "source": [
        "clr1 = ['#1E90FF', '#DC143C']\n",
        "fig, ax = plt.subplots(3, 2, figsize=(10,12))\n",
        "fig.suptitle('Distribution of Numerical Features By Case Status', color='#3C3744',\n",
        "             fontsize=20, fontweight='bold', ha='center')\n",
        "for i, col in enumerate(continues_features):   \n",
        "    sns.boxplot(data=df, x='case_status', y=col,  palette=clr1, ax=ax[i,0])\n",
        "    ax[i,0].set_title(f'Boxplot of {col}', fontsize=12)\n",
        "    sns.histplot(data=df, x=col, hue='case_status', bins=20, kde=True, \n",
        "                 multiple='stack', palette=clr1, ax=ax[i,1])\n",
        "    ax[i,1].set_title(f'Histogram of {col}', fontsize=14)\n",
        "fig.tight_layout()\n",
        "fig.subplots_adjust(top=0.90)\n",
        "# plt.savefig('images/multivariate_num.png')"
      ]
    },
    {
      "cell_type": "markdown",
      "id": "075194a0",
      "metadata": {
        "id": "075194a0"
      },
      "source": []
    },
    {
      "cell_type": "markdown",
      "id": "999c4aeb",
      "metadata": {
        "id": "999c4aeb"
      },
      "source": [
        "## Initial Analysis Report"
      ]
    },
    {
      "cell_type": "markdown",
      "id": "ec920a74",
      "metadata": {
        "id": "ec920a74"
      },
      "source": [
        "* **No of Employees has many outliers which can be Handled in Feature Engineering and `no_of_employees` is Right Skewed.**\n",
        "* **`yr_of_estab` is left skewed and some outliers below the lower bound of Box plot.**\n",
        "* **`prevailing_wage` is right skewed with outliers above upper bound of box plot.**\n",
        "* **There are No missing values in the dataset.**\n",
        "* **The `case_id` column can be deleted because each row has unique values.**\n",
        "* **The `case_status` column is the target to predict.**\n",
        "* **In the Categorical column, features can be made Binary numerical in feature Encoding**"
      ]
    },
    {
      "cell_type": "markdown",
      "id": "51e008b6",
      "metadata": {
        "id": "51e008b6"
      },
      "source": [
        "## 4. Visualization"
      ]
    },
    {
      "cell_type": "markdown",
      "id": "1daa60f0",
      "metadata": {
        "id": "1daa60f0"
      },
      "source": [
        "### 4.1 Visualize the Target Feature"
      ]
    },
    {
      "cell_type": "code",
      "execution_count": null,
      "id": "f3ceb2e8",
      "metadata": {
        "id": "f3ceb2e8",
        "outputId": "5fe0387c-e260-4275-9ffa-89e107432e18"
      },
      "outputs": [],
      "source": [
        "percentage = df.case_status.value_counts(normalize=True)*100\n",
        "labels = [\"Certified\",\"Denied\"]\n",
        "\n",
        "# Plot PieChart with Ploty library\n",
        "fig, ax = plt.subplots(figsize =(15, 8))\n",
        "explode = (0, 0.1)\n",
        "colors = ['#1188ff','#e63a2a']\n",
        "ax.pie(percentage, labels = labels, startangle = 90,\n",
        "       autopct='%1.2f%%',explode=explode, shadow=True, colors=colors)\n",
        "plt.show()"
      ]
    },
    {
      "cell_type": "markdown",
      "id": "9688fcfe",
      "metadata": {
        "id": "9688fcfe"
      },
      "source": [
        "* From the chart it is seen that the Target Variable is Imbalanced\n",
        "**What is imbalanced data?**\n",
        "\n",
        "Imbalanced data are types of data where the target class has an uneven distribution of observations, i.e Here Denied value has more count than the Certified value of the dataset."
      ]
    },
    {
      "cell_type": "markdown",
      "id": "e05ba6d1",
      "metadata": {
        "id": "e05ba6d1"
      },
      "source": [
        "### 4.2 Does applicant Continent has any impact on Visa status ?"
      ]
    },
    {
      "cell_type": "code",
      "execution_count": null,
      "id": "c478dbff",
      "metadata": {
        "id": "c478dbff",
        "outputId": "d468548c-ea61-41e5-df5d-c3255fdfe1df"
      },
      "outputs": [],
      "source": [
        "#group data by continent and their count of case_status\n",
        "(df.groupby('continent')['case_status'].value_counts(normalize=True).to_frame()*100)"
      ]
    },
    {
      "cell_type": "code",
      "execution_count": null,
      "id": "2e8f5aae",
      "metadata": {
        "id": "2e8f5aae",
        "outputId": "aed09d50-750a-48dd-dac7-902f1f44cbee"
      },
      "outputs": [],
      "source": [
        "plt.subplots(figsize=(14,7))\n",
        "sns.countplot(x=\"continent\",hue=\"case_status\", data=df, ec = \"black\",palette=\"Accent\")\n",
        "plt.title(\"Continent vs Visa Status\", weight=\"bold\",fontsize=20, pad=20)\n",
        "plt.ylabel(\"Count\", weight=\"bold\", fontsize=12)\n",
        "plt.xlabel(\"Continents\", weight=\"bold\", fontsize=16)\n",
        "plt.legend(title=\"Visa Status\", fancybox=True)\n",
        "plt.show()"
      ]
    },
    {
      "cell_type": "code",
      "execution_count": null,
      "id": "75b9eef9",
      "metadata": {
        "id": "75b9eef9",
        "outputId": "a0a79d96-ea8b-4bd3-f407-04d250ae8f98"
      },
      "outputs": [],
      "source": [
        "df2 = df.copy()"
      ]
    },
    {
      "cell_type": "code",
      "execution_count": null,
      "id": "f77c6451",
      "metadata": {
        "id": "f77c6451",
        "outputId": "9a5f0d5d-5bf5-4a3e-accd-275c89d7a505"
      },
      "outputs": [],
      "source": [
        "plt.figure(figsize=[14,7])\n",
        "\n",
        "(100*df2[df2[\"case_status\"].isin(['Certified'])]['continent'].value_counts()/df2['continent'].value_counts()).plot(\n",
        "    kind='bar',stacked=True , colormap='Accent')\n",
        "plt.title(\"Percentage of Certified\" , fontsize = 15, fontweight ='bold'  )\n",
        "order1 = (100*df2[df2[\"case_status\"].isin(['Certified'])]['continent'].value_counts()/df2['continent'].value_counts())\n",
        "for n in range(order1.shape[0]):\n",
        "    count = order1[n]\n",
        "    strt='{:0.1f}%'.format(count)\n",
        "    plt.text(n,count+0.1,strt,ha='center')\n",
        "\n",
        "plt.xlabel('Continent' , fontweight ='bold')\n",
        "plt.xticks(rotation=0)\n",
        "plt.show()"
      ]
    },
    {
      "cell_type": "markdown",
      "id": "aba5c7f1",
      "metadata": {
        "id": "aba5c7f1"
      },
      "source": [
        "**Report:**\n",
        "* As per the Chart Asia applicants applied more than other continents.\n",
        "* 43% of Certified applications are from Asia.\n",
        "* This is followed by Europe with 11% of Certified applications.\n",
        "* Highest chance of getting certified if you are from `Europe` and followed by `Africa`"
      ]
    },
    {
      "cell_type": "markdown",
      "id": "30677845",
      "metadata": {
        "id": "30677845"
      },
      "source": [
        "### 4.3 Does applicant education has any impact on Visa status ?"
      ]
    },
    {
      "cell_type": "code",
      "execution_count": null,
      "id": "a859eb5d",
      "metadata": {
        "id": "a859eb5d",
        "outputId": "4e513851-bf51-4091-b429-6b0436ff7199"
      },
      "outputs": [],
      "source": [
        "#group data by Education and their count of case_status\n",
        "df.groupby('education_of_employee')['case_status'].value_counts(normalize=True).to_frame()*100"
      ]
    },
    {
      "cell_type": "code",
      "execution_count": null,
      "id": "0e1d7eb2",
      "metadata": {
        "id": "0e1d7eb2",
        "outputId": "9da3b8af-5cf1-4bfa-b352-6c3f1289a595"
      },
      "outputs": [],
      "source": [
        "plt.subplots(figsize=(14,7))\n",
        "sns.countplot(x=\"education_of_employee\",hue=\"case_status\", data=df, ec = \"black\",palette=\"Accent\")\n",
        "plt.title(\"Education of Employee vs Visa Status\", weight=\"bold\",fontsize=20, pad=20)\n",
        "plt.ylabel(\"Count\", weight=\"bold\", fontsize=12)\n",
        "plt.xlabel(\"Education of Employee\", weight=\"bold\", fontsize=16)\n",
        "plt.legend(title=\"Visa Status\", fancybox=True)\n",
        "plt.show()"
      ]
    },
    {
      "cell_type": "code",
      "execution_count": null,
      "id": "82a384c6",
      "metadata": {
        "id": "82a384c6",
        "outputId": "e41eaa8e-6ce7-4478-f9f8-56b1c8f2a1cf"
      },
      "outputs": [],
      "source": [
        "plt.figure(figsize=[14,7])\n",
        "\n",
        "(100*df2[df2[\"case_status\"].isin(['Certified'])]['education_of_employee'].value_counts()/df2['education_of_employee'].value_counts()).plot(\n",
        "    kind='bar',stacked=True , colormap='Accent')\n",
        "plt.title(\"Percentage of Certified vs Education of the employee\" , fontsize = 15, fontweight ='bold'  )\n",
        "order1 = (100*df2[df2[\"case_status\"].isin(['Certified'])]['education_of_employee'].value_counts()/df2['education_of_employee'].value_counts())\n",
        "for n in range(order1.shape[0]):\n",
        "    count = order1[n]\n",
        "    strt='{:0.1f}%'.format(count)\n",
        "    plt.text(n,count+0.1,strt,ha='center')\n",
        "\n",
        "plt.xlabel('education_of_employee' , fontweight ='bold')\n",
        "plt.xticks(rotation=0)\n",
        "plt.show()"
      ]
    },
    {
      "cell_type": "markdown",
      "id": "6630e196",
      "metadata": {
        "id": "6630e196"
      },
      "source": [
        "**Insights**\n",
        "- education status has high impact\n",
        "- `Doctorate` and `Master's` graduates have higher range of being accepted then the others."
      ]
    },
    {
      "cell_type": "markdown",
      "id": "68fd3889",
      "metadata": {
        "id": "68fd3889"
      },
      "source": [
        "### 4.4 Does applicant's previous work experience has any impact on Visa status ?"
      ]
    },
    {
      "cell_type": "code",
      "execution_count": null,
      "id": "34d99224",
      "metadata": {
        "id": "34d99224",
        "outputId": "08232dee-ed11-4f05-cb73-69dda105307d"
      },
      "outputs": [],
      "source": [
        "#group data by has_job_experience and count case_status\n",
        "df.groupby('has_job_experience')['case_status'].value_counts(normalize=True).to_frame()*100"
      ]
    },
    {
      "cell_type": "code",
      "execution_count": null,
      "id": "018087c7",
      "metadata": {
        "id": "018087c7",
        "outputId": "62253749-d221-4f37-b593-17ea03024284"
      },
      "outputs": [],
      "source": [
        "plt.subplots(figsize=(13,7))\n",
        "sns.countplot(x=\"has_job_experience\",hue=\"case_status\", data=df, ec= \"black\",palette=\"Accent\")\n",
        "plt.title(\"Previous Work Experience of Employee vs Visa Status\", weight=\"bold\",fontsize=20, pad=20)\n",
        "plt.ylabel(\"Count\", weight=\"bold\", fontsize=12)\n",
        "plt.xlabel(\"Work Experience of Employee\", weight=\"bold\", fontsize=16)\n",
        "plt.legend(title=\"Visa Status\", fancybox=True)\n",
        "plt.show()"
      ]
    },
    {
      "cell_type": "code",
      "execution_count": null,
      "id": "0f1ee849",
      "metadata": {
        "id": "0f1ee849",
        "outputId": "8fb7bc0f-5846-4774-8490-569d84882487",
        "scrolled": false
      },
      "outputs": [],
      "source": [
        "plt.figure(figsize=[14,7])\n",
        "\n",
        "(100*df2[df2[\"case_status\"].isin(['Certified'])]['has_job_experience'].value_counts()/df2['has_job_experience'].value_counts()).plot(\n",
        "    kind='bar',stacked=True , colormap='Accent')\n",
        "plt.title(\"Percentage of Certified vs Job Experience\" , fontsize = 15, fontweight ='bold'  )\n",
        "order1 = (100*df2[df2[\"case_status\"].isin(['Certified'])]['has_job_experience'].value_counts()/df2['has_job_experience'].value_counts())\n",
        "for n in range(order1.shape[0]):\n",
        "    count = order1[n]\n",
        "    strt='{:0.1f}%'.format(count)\n",
        "    plt.text(n,count+0.1,strt,ha='center')\n",
        "\n",
        "plt.xlabel('has_job_experience' , fontweight ='bold')\n",
        "plt.xticks(rotation=0)\n",
        "plt.show()"
      ]
    },
    {
      "cell_type": "markdown",
      "id": "05b173f8",
      "metadata": {
        "id": "05b173f8"
      },
      "source": [
        "**Report**\n",
        "* People with previous work experience has been certified 74.5% only 25.5% applicant has been denied.\n",
        "* People with No previous work experience has been certified 56% and denied 43%.\n",
        "* This means work experience has effect on Visa status.\n",
        "* There is a slight edge for the people with work experiences then the fresheres as expected. But the difference is not huge."
      ]
    },
    {
      "cell_type": "markdown",
      "id": "2a52d4c2",
      "metadata": {
        "id": "2a52d4c2"
      },
      "source": [
        "### 4.5 If the Employee requires job training, does it make any impact on visa status?"
      ]
    },
    {
      "cell_type": "code",
      "execution_count": null,
      "id": "b1e889d4",
      "metadata": {
        "id": "b1e889d4",
        "outputId": "7cd2260f-a9e3-4dc0-d586-bf4a7683c85e"
      },
      "outputs": [],
      "source": [
        "#group data by requires_job_training and count case_status\n",
        "df.groupby('requires_job_training')['case_status'].value_counts(normalize=True).to_frame()*100"
      ]
    },
    {
      "cell_type": "code",
      "execution_count": null,
      "id": "c88bd0c5",
      "metadata": {
        "id": "c88bd0c5",
        "outputId": "b02126f0-afc9-45d8-a105-f4ec9f7f71fc"
      },
      "outputs": [],
      "source": [
        "plt.subplots(figsize=(13,7))\n",
        "sns.countplot(x=\"requires_job_training\",hue=\"case_status\", data=df, ec= \"black\",palette=\"Accent\")\n",
        "plt.title(\"Requires job training for Employee vs Visa Status\", weight=\"bold\",fontsize=20, pad=20)\n",
        "plt.ylabel(\"Count\", weight=\"bold\", fontsize=12)\n",
        "plt.xlabel(\"Requires Job Training for Employee\", weight=\"bold\", fontsize=16)\n",
        "plt.legend(title=\"Visa Status\", fancybox=True)\n",
        "plt.show()"
      ]
    },
    {
      "cell_type": "code",
      "execution_count": null,
      "id": "30ce3444",
      "metadata": {
        "id": "30ce3444",
        "outputId": "0988a21f-619c-4ba8-fd70-7bad363289f7"
      },
      "outputs": [],
      "source": [
        "plt.figure(figsize=[14,7])\n",
        "\n",
        "(100*df2[df2[\"case_status\"].isin(['Certified'])]['requires_job_training'].value_counts()/df2['requires_job_training'].value_counts()).plot(\n",
        "    kind='bar',stacked=True , colormap='Accent')\n",
        "plt.title(\"Percentage of Certified vs Required training\" , fontsize = 15, fontweight ='bold'  )\n",
        "order1 = (100*df2[df2[\"case_status\"].isin(['Certified'])]['requires_job_training'].value_counts()/df2['requires_job_training'].value_counts())\n",
        "for n in range(order1.shape[0]):\n",
        "    count = order1[n]\n",
        "    strt='{:0.1f}%'.format(count)\n",
        "    plt.text(n,count+0.1,strt,ha='center')\n",
        "\n",
        "plt.xlabel('requires_job_training' , fontweight ='bold')\n",
        "plt.xticks(rotation=0)\n",
        "plt.show()"
      ]
    },
    {
      "cell_type": "markdown",
      "id": "8ae972b7",
      "metadata": {
        "id": "8ae972b7"
      },
      "source": [
        "**Report**\n",
        "* If employee requires job training and it doesn't have any effect on Visa status.\n",
        "* 88% of applicant don't require job training. \n",
        "* 63% of people who doesnt want job training got certified.\n",
        "* For employees who require job training 67% of people get certified.\n",
        "* As we checked in Chi-Squared test this feature doesn't have much impact on target variable, which is confirmed by above plot."
      ]
    },
    {
      "cell_type": "markdown",
      "id": "895b8418",
      "metadata": {
        "id": "895b8418"
      },
      "source": [
        "### 4.6 Does Number of employees of employer has any impact on Visa status?"
      ]
    },
    {
      "cell_type": "code",
      "execution_count": null,
      "id": "ef5787f8",
      "metadata": {
        "id": "ef5787f8",
        "outputId": "57bac262-3aa9-4376-8087-941f36630d72",
        "scrolled": false
      },
      "outputs": [],
      "source": [
        "plt.subplots(figsize=(10,13))\n",
        "sns.violinplot(x=\"case_status\",y='no_of_employees', data=df, palette=\"Accent\")\n",
        "plt.title(\"Number of employees vs Visa Status\", weight=\"bold\",fontsize=20, pad=20)\n",
        "plt.ylabel(\"Count\", weight=\"bold\", fontsize=12)\n",
        "plt.xlabel(\"Requires Job Training for Employee\", weight=\"bold\", fontsize=16)\n",
        "plt.ylim()\n",
        "plt.show()"
      ]
    },
    {
      "cell_type": "markdown",
      "id": "324cd8ec",
      "metadata": {
        "id": "324cd8ec"
      },
      "source": [
        "**Insights**\n",
        " - The distrubution of both is similar. But there are outliers in both the classes which need to be handeled."
      ]
    },
    {
      "cell_type": "markdown",
      "id": "ece7eaa8",
      "metadata": {
        "id": "ece7eaa8"
      },
      "source": [
        "### 4.7 Wages and its impact on Visa status"
      ]
    },
    {
      "cell_type": "code",
      "execution_count": null,
      "id": "8cf11f58",
      "metadata": {
        "id": "8cf11f58",
        "outputId": "8959665a-f06e-46b7-962a-c7014e9e9273"
      },
      "outputs": [],
      "source": [
        "#group data by unit_of_wage and count the case_status\n",
        "df.groupby('unit_of_wage')['case_status'].value_counts(normalize=True)*100"
      ]
    },
    {
      "cell_type": "code",
      "execution_count": null,
      "id": "05da0ecb",
      "metadata": {
        "id": "05da0ecb",
        "outputId": "3b348de2-ebe9-4e71-ec22-93e0f94e54e1"
      },
      "outputs": [],
      "source": [
        "plt.subplots(figsize=(14,7))\n",
        "sns.countplot(x=\"unit_of_wage\",hue=\"case_status\", data=df,ec='k', palette='Accent')\n",
        "plt.title(\"No of Employees in company vs Visa Status\", weight=\"bold\",fontsize=20, pad=20)\n",
        "plt.xlabel(\"No of Employees\", weight=\"bold\", fontsize=16)\n",
        "plt.ylabel(\"Count\", weight=\"bold\", fontsize=12)\n",
        "plt.show()"
      ]
    },
    {
      "cell_type": "code",
      "execution_count": null,
      "id": "1c4dc183",
      "metadata": {
        "id": "1c4dc183",
        "outputId": "c6bb4a93-7326-4e51-826f-ecf196452794"
      },
      "outputs": [],
      "source": [
        "plt.figure(figsize=[14,7])\n",
        "\n",
        "(100*df2[df2[\"case_status\"].isin(['Certified'])]['unit_of_wage'].value_counts()/df2['unit_of_wage'].value_counts()).plot(\n",
        "    kind='bar',stacked=True , colormap='Accent')\n",
        "plt.title(\"Percentage of Certified vs contract time\" , fontsize = 15, fontweight ='bold'  )\n",
        "order1 = (100*df2[df2[\"case_status\"].isin(['Certified'])]['unit_of_wage'].value_counts()/df2['unit_of_wage'].value_counts())\n",
        "for n in range(order1.shape[0]):\n",
        "    count = order1[n]\n",
        "    strt='{:0.1f}%'.format(count)\n",
        "    plt.text(n,count+0.1,strt,ha='center')\n",
        "\n",
        "plt.xlabel('unit_of_wage' , fontweight ='bold')\n",
        "plt.xticks(rotation=0)\n",
        "plt.show()"
      ]
    },
    {
      "cell_type": "markdown",
      "id": "15344458",
      "metadata": {
        "id": "15344458"
      },
      "source": [
        "**Report**\n",
        "* For employees who applied for hourly pay 65% of them were denied.\n",
        "* Yearly unit wage application were accepted for 69% and denied for 31% of the time.\n",
        "* There is a higher chance of yearly contract than other and immediately followed by week and month."
      ]
    },
    {
      "cell_type": "markdown",
      "id": "a27c90c2",
      "metadata": {
        "id": "a27c90c2"
      },
      "source": [
        "### 4.7 Does Region of employment has impact on Visa status ?"
      ]
    },
    {
      "cell_type": "code",
      "execution_count": null,
      "id": "3cbc686e",
      "metadata": {
        "id": "3cbc686e",
        "outputId": "a08ad6ff-f3b9-4315-ae1b-3f58d030d302"
      },
      "outputs": [],
      "source": [
        "plt.subplots(figsize=(14,7))\n",
        "sns.countplot(x=\"region_of_employment\",hue=\"case_status\", data=df,ec='k')\n",
        "plt.title(\"Region of Employment vs Visa Status\", weight=\"bold\",fontsize=20, pad=20)\n",
        "plt.xlabel(\"Region\", weight=\"bold\", fontsize=16)\n",
        "plt.ylabel(\"Count\", weight=\"bold\", fontsize=12)\n",
        "plt.legend(title=\"Visa Status\", fancybox=True)\n",
        "plt.show()"
      ]
    },
    {
      "cell_type": "code",
      "execution_count": null,
      "id": "77ea0980",
      "metadata": {
        "id": "77ea0980",
        "outputId": "c6b26288-eeb6-4117-b484-763aa565ba9b"
      },
      "outputs": [],
      "source": [
        "plt.figure(figsize=[14,7])\n",
        "\n",
        "(100*df2[df2[\"case_status\"].isin(['Certified'])]['region_of_employment'].value_counts()/df2['region_of_employment'].value_counts()).plot(\n",
        "    kind='bar',stacked=True , colormap='Accent')\n",
        "plt.title(\"Percentage of Certified vs employment region\" , fontsize = 15, fontweight ='bold'  )\n",
        "order1 = (100*df2[df2[\"case_status\"].isin(['Certified'])]['region_of_employment'].value_counts()/df2['region_of_employment'].value_counts())\n",
        "for n in range(order1.shape[0]):\n",
        "    count = order1[n]\n",
        "    strt='{:0.1f}%'.format(count)\n",
        "    plt.text(n,count+0.1,strt,ha='center')\n",
        "\n",
        "plt.xlabel('region_of_employment' , fontweight ='bold')\n",
        "plt.xticks(rotation=0)\n",
        "plt.show()"
      ]
    },
    {
      "cell_type": "markdown",
      "id": "76f6d9f9",
      "metadata": {
        "id": "76f6d9f9"
      },
      "source": [
        "**Report** \n",
        "* As per chart all the region have very similar pattern of getting Visa certified and Denied.\n",
        "* There is a slight edge for `midwest` followed by `South` region"
      ]
    },
    {
      "cell_type": "markdown",
      "id": "1c62a7cd",
      "metadata": {
        "id": "1c62a7cd"
      },
      "source": [
        "### 4.8 Does Prevailing wage has any impact on Visa status ?"
      ]
    },
    {
      "cell_type": "code",
      "execution_count": null,
      "id": "88e66759",
      "metadata": {
        "id": "88e66759",
        "outputId": "fac54b89-0cd6-444f-ea40-5aaae9f17b10"
      },
      "outputs": [],
      "source": [
        "df.groupby('prevailing_wage').case_status.value_counts()"
      ]
    },
    {
      "cell_type": "code",
      "execution_count": null,
      "id": "e3061091",
      "metadata": {
        "id": "e3061091",
        "outputId": "3612cbf3-22f5-4c00-9a57-9a70647bbeab"
      },
      "outputs": [],
      "source": [
        "plt.subplots(figsize=(14,7))\n",
        "sns.histplot(x=\"prevailing_wage\",hue=\"case_status\", data=df, kde=True)\n",
        "plt.title(\"Prevailing wage vs Visa Status\", weight=\"bold\",fontsize=20, pad=20)\n",
        "plt.xlabel(\"Region\", weight=\"bold\", fontsize=16)\n",
        "plt.ylabel(\"Count\", weight=\"bold\", fontsize=12)\n",
        "plt.show()"
      ]
    },
    {
      "cell_type": "markdown",
      "id": "f551a731",
      "metadata": {
        "id": "f551a731"
      },
      "source": [
        "**Insights**\n",
        " - The distribution of both the classes are same but need to handel the outliers."
      ]
    },
    {
      "cell_type": "markdown",
      "id": "ff8531ed",
      "metadata": {
        "id": "ff8531ed"
      },
      "source": [
        "#### 4.8.1 Prevailing wage based on Education"
      ]
    },
    {
      "cell_type": "code",
      "execution_count": null,
      "id": "a085e1f7",
      "metadata": {
        "id": "a085e1f7",
        "outputId": "7148c15b-cf83-4d98-d741-8f03bd4a258c"
      },
      "outputs": [],
      "source": [
        "print('Average Prevailing wage based on Employee education')\n",
        "df.groupby('education_of_employee')['prevailing_wage'].mean().to_frame().sort_values(by='prevailing_wage',ascending=False)"
      ]
    },
    {
      "cell_type": "code",
      "execution_count": null,
      "id": "04035178",
      "metadata": {
        "id": "04035178",
        "outputId": "c43d769d-a5b8-4c17-9c5b-8d8f441de7bd"
      },
      "outputs": [],
      "source": [
        "plt.subplots(figsize=(14,7))\n",
        "sns.boxplot(y=\"education_of_employee\",x = \"prevailing_wage\", data=df,palette='bright')\n",
        "plt.title(\"education_of_employee vs Visa Status\", weight=\"bold\",fontsize=20, pad=20)\n",
        "plt.xlabel(\"Prevailing Wage\", weight=\"bold\", fontsize=16)\n",
        "plt.ylabel(\"Education\", weight=\"bold\", fontsize=12)\n",
        "plt.show()"
      ]
    },
    {
      "cell_type": "markdown",
      "id": "88460961",
      "metadata": {
        "id": "88460961"
      },
      "source": [
        "**Report**\n",
        "* Based on the above table and charts its seen that applicant with Master's education has higher average prevailing wages.\n",
        "* Master's education applicants have median salary of $78.8k, which approximately 20% higher than Doctrate's average wage, which is strange."
      ]
    },
    {
      "cell_type": "markdown",
      "id": "cb600997",
      "metadata": {
        "id": "cb600997"
      },
      "source": [
        "#### 4.8.2 Prevailing wage based on Job experience"
      ]
    },
    {
      "cell_type": "code",
      "execution_count": null,
      "id": "7c4dc1f9",
      "metadata": {
        "id": "7c4dc1f9",
        "outputId": "5f185e1a-e1aa-4e28-aa23-997942372b6a"
      },
      "outputs": [],
      "source": [
        "print('Median Prevailing wage based on Job experience')\n",
        "df.groupby('has_job_experience')['prevailing_wage'].median().to_frame().sort_values(by='prevailing_wage',ascending=False)"
      ]
    },
    {
      "cell_type": "markdown",
      "id": "5f34385b",
      "metadata": {
        "id": "5f34385b"
      },
      "source": [
        "**Report**\n",
        "* Suprisingly people who has less job experience has more prevailing wage.\n",
        "* No job experience applicant has median prevailing wage as 72k USD.\n",
        "* Previous job experience applicant has median prevailing wage as 69K USD."
      ]
    },
    {
      "cell_type": "markdown",
      "id": "24488d9b",
      "metadata": {
        "id": "24488d9b"
      },
      "source": [
        "#### 4.8.3 Prevailing wage based on Continent"
      ]
    },
    {
      "cell_type": "code",
      "execution_count": null,
      "id": "f6a2e7ab",
      "metadata": {
        "id": "f6a2e7ab",
        "outputId": "8275f774-6275-46db-d730-13bb116816fa"
      },
      "outputs": [],
      "source": [
        "print('Average Prevailing wage based on Continent')\n",
        "df.groupby('continent')['prevailing_wage'].mean().to_frame().sort_values(by='prevailing_wage',ascending=False)"
      ]
    },
    {
      "cell_type": "code",
      "execution_count": null,
      "id": "5cc444c6",
      "metadata": {
        "id": "5cc444c6",
        "outputId": "4c81df76-20b7-465c-ed06-b4f40813d944"
      },
      "outputs": [],
      "source": [
        "plt.subplots(figsize=(14,7))\n",
        "sns.boxplot(y=\"continent\",x = \"prevailing_wage\", data=df,palette='bright')\n",
        "plt.title(\"continent vs Visa Status\", weight=\"bold\",fontsize=20, pad=20)\n",
        "plt.xlabel(\"Prevailing Wage\", weight=\"bold\", fontsize=16)\n",
        "plt.ylabel(\"continent\", weight=\"bold\", fontsize=12)\n",
        "plt.show()"
      ]
    },
    {
      "cell_type": "markdown",
      "id": "7f146c47",
      "metadata": {
        "id": "7f146c47"
      },
      "source": [
        "**Report**\n",
        "* Average salary of people from Asia is higher than other continents."
      ]
    },
    {
      "cell_type": "markdown",
      "id": "32475a4f",
      "metadata": {
        "id": "32475a4f"
      },
      "source": [
        "### 4.9 Year of Establishment "
      ]
    },
    {
      "cell_type": "code",
      "execution_count": null,
      "id": "a32d55d2",
      "metadata": {
        "id": "a32d55d2",
        "outputId": "27859040-e5e9-4045-fa72-1c207ea81dd1"
      },
      "outputs": [],
      "source": [
        "plt.subplots(figsize=(14,7))\n",
        "sns.histplot(x = \"yr_of_estab\", data=df,palette='gnuplot', bins=40, hue='case_status')\n",
        "plt.title(\"yr_of_estab vs Visa Status\", weight=\"bold\",fontsize=20, pad=20)\n",
        "plt.xlabel(\"yr_of_estab\", weight=\"bold\", fontsize=16)\n",
        "plt.ylabel(\"Prevailing Wage\", weight=\"bold\", fontsize=12)\n",
        "plt.show()"
      ]
    },
    {
      "cell_type": "markdown",
      "id": "e9e424c9",
      "metadata": {
        "id": "e9e424c9"
      },
      "source": [
        "**Report**\n",
        "* Each bins consists of 5 years.\n",
        "* Many companies were established after year 2000.\n",
        "* The most company establishment happened in year 2000-2005."
      ]
    },
    {
      "cell_type": "markdown",
      "id": "d05d92f5",
      "metadata": {
        "id": "d05d92f5"
      },
      "source": [
        "### Final Report \n",
        "* `case_id` column can be dropped as it is an ID.\n",
        "* `requires_job_training` column can be dropped as it doesn't have much impact on target variable, Proved in visualization and chi2 test.\n",
        "* `no_of_employees`, `prevailing_wage` columns have outllier which should be handled.\n",
        "* `continent` columns has few unique values with very less count, which can be made as **others**\n",
        "* Target column `case_status` is imbalanced can be handled before model building."
      ]
    },
    {
      "cell_type": "code",
      "execution_count": null,
      "id": "685519eb",
      "metadata": {
        "id": "685519eb"
      },
      "outputs": [],
      "source": [
        "########################-------------Feature Engineering and Model Training in Next ipynb------------###########################"
      ]
    },
    {
      "cell_type": "code",
      "execution_count": null,
      "id": "755c906a",
      "metadata": {},
      "outputs": [],
      "source": [
        "import os\n",
        "import evidently\n",
        "\n",
        "package_dir = os.path.dirname(evidently.__file__)\n",
        "print(os.listdir(package_dir))\n"
      ]
    },
    {
      "cell_type": "code",
      "execution_count": null,
      "id": "bc71a028",
      "metadata": {},
      "outputs": [],
      "source": [
        "import evidently.metrics\n",
        "dir(evidently.metrics)\n"
      ]
    }
  ],
  "metadata": {
    "colab": {
      "provenance": []
    },
    "kernelspec": {
      "display_name": "Python 3",
      "language": "python",
      "name": "python3"
    },
    "language_info": {
      "codemirror_mode": {
        "name": "ipython",
        "version": 3
      },
      "file_extension": ".py",
      "mimetype": "text/x-python",
      "name": "python",
      "nbconvert_exporter": "python",
      "pygments_lexer": "ipython3",
      "version": "3.9.19"
    },
    "vscode": {
      "interpreter": {
        "hash": "e6422fc631fadc7a14dbe43d10d544a88c5583408f68c588bbe9704b9c540dab"
      }
    }
  },
  "nbformat": 4,
  "nbformat_minor": 5
}
